{
 "cells": [
  {
   "cell_type": "code",
   "execution_count": 1,
   "metadata": {},
   "outputs": [
    {
     "ename": "ERROR",
     "evalue": "Error in make.names(col.names, unique = TRUE): invalid multibyte string 1\n",
     "output_type": "error",
     "traceback": [
      "Error in make.names(col.names, unique = TRUE): invalid multibyte string 1\nTraceback:\n",
      "1. read.csv(\"/Users/adityakishanankaraboyana/CSE487Spring2018/Fludata.csv\")",
      "2. read.table(file = file, header = header, sep = sep, quote = quote, \n .     dec = dec, fill = fill, comment.char = comment.char, ...)",
      "3. make.names(col.names, unique = TRUE)"
     ]
    }
   ],
   "source": [
    "read.csv(\"/Users/adityakishanankaraboyana/CSE487Spring2018/Fludata.csv\")"
   ]
  },
  {
   "cell_type": "code",
   "execution_count": null,
   "metadata": {
    "collapsed": true
   },
   "outputs": [],
   "source": []
  }
 ],
 "metadata": {
  "kernelspec": {
   "display_name": "R",
   "language": "R",
   "name": "ir"
  },
  "language_info": {
   "codemirror_mode": "r",
   "file_extension": ".r",
   "mimetype": "text/x-r-source",
   "name": "R",
   "pygments_lexer": "r",
   "version": "3.4.3"
  }
 },
 "nbformat": 4,
 "nbformat_minor": 2
}
